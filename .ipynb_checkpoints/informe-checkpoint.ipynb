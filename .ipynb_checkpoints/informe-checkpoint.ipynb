{
 "cells": [
  {
   "cell_type": "markdown",
   "metadata": {},
   "source": [
    "# Entrega 1 - Título\n",
    "\n",
    "### Grupo 13:\n",
    "     - J. Aguirre  C.I: 4.773.509-6\n",
    "     - A. Collazo C.I...\n",
    "     - G. Nunez C.I: 4.785.081-2\n",
    "\n"
   ]
  },
  {
   "cell_type": "markdown",
   "metadata": {},
   "source": [
    "## 1. Objetivo"
   ]
  },
  {
   "cell_type": "markdown",
   "metadata": {},
   "source": [
    "El objetivo de esta tarea es construir un jugador de damas chinas, a partir de una representación del tablero elegida y una función binaria la cual retorna si un tablero futuro (posible de llegar a él) es 'ganador' o 'perdedor'. \n",
    "\n",
    "El éxito del aprendizaje se mide a través de la cantidad de partidas ganadas sobre un total de partidas jugadas previamente configurado.\n",
    "\n",
    "\n"
   ]
  },
  {
   "cell_type": "markdown",
   "metadata": {},
   "source": [
    "## 2. Diseño"
   ]
  },
  {
   "cell_type": "markdown",
   "metadata": {},
   "source": [
    "En la siguiente sección se mencionan las decisiones de diseño utilizadas en: los distintos aspectos del juego, la representación lógica del tablero, los algoritmos utilizados para la implementación del aprendiz y la construcción de los jugadores oponentes.  "
   ]
  },
  {
   "cell_type": "markdown",
   "metadata": {},
   "source": [
    "\n",
    "## 2.1 Juego\n",
    "### 2.1.1 Reglas\n",
    "Las reglas utilizadas para el juego son las mismas que se aplican en el juego de las damas chinas convencional a excepción de las siguientes simplificaciones:\n",
    "* Dado que las partidas son siempre de dos jugadores el tablero fue simplificado, omitiendo cuatro de las 6 puntas de la estrella. Por lo tanto el tablero resultante está formado por un hexágono de 9 casilleros de largo, y dos triángulos opuestos de largo cuatro casilleros cada uno.\n",
    "* Una vez que una ficha alcanza su triángulo objetivo, la misma no podrá realizar movimientos hacia atrás en el tablero. Esta decisión fue tomada para que el jugador randómico no saque fichas de las posiciones ganadoras.\n",
    "* Se limita a poder realizar un único salto por jugada. \n",
    "\n",
    "\n",
    "## 2.2 Tablero\n",
    "Con el objetivo de contabilizar el grado de avance de las fichas (de cada jugador), el tablero fue particionado en cinco regiones lógicas: las fichas en posición inicial, en posición lejana del triángulo objetivo, las que están a mitad de camino, las cercanas al triángulo objetivo y finalmente las fichas en posición ganadora. Todas las regiones son de largo tres casilleros a excepción de la primer y última región que tienen largo cuatro.\n",
    "A partir de esto, se define la representación del tablero como una tupla de diez valores, donde cada valor representa la cantidad de fichas de cada jugador en: (región inicial, región lejana, región media, región cercana, región ganadora).\n",
    "\n",
    "En las figuras 2.1 y 2.2 se muestran dos ejemplos de posibles tableros con sus respectivas tuplas que los representan. (PONER IMAGENES DE TABLEROS CON FICHAS EN DISTINTAS POSICIONES Y LA TUPLA CORRESPONDIENTE A ESA SITUACION) \n",
    "\n",
    "\n",
    "\n",
    "## 2.3 Algoritmo\n",
    "- ¿cómo se representa a la función de valoración? ¿qué valores toma?\n",
    "La función de valoración es una función partida en tres rangos:\n",
    "- Cuando la cantidad de fichas en posición ganadora del jugador 1 es 10, la función vale 1\n",
    "- Cuando la cantidad de fichas en posición ganadora del jugador 2 es 10, la función vale -1\n",
    "- En el resto de los tableros, la función se representa como combinación lineal de los valores de los atributos que representan al tablero\n",
    "Cada una de las variables está multiplicada por una ponderación que representa la relevancia del valor del atributo en la estrategia de juego.\n",
    "El dominio de la funcion de valoración está definida en todos los reales entre -1 y 1 (VER ESTO).\n",
    "\n",
    "- ¿cómo se ajusta? ¿cuándo se ajusta? ¿cada turno? ¿final del partido? ¿cada N partidos?\n",
    "Los función se ajusta siguiendo el algoritmo LSM al término de una cantidad de partidas dada. Dicha cantidad de partidos es configurable en el sentido de que se debe ingresar un parámetro que indique cada cuantos partidos se deben ajustar los pesos. El vector de pesos obtenido es normalizdo por su norma de manera tal que el valor de cada uno de ellos se mantiene en el rango entre -1 y 1.\n",
    "En la sección tal.tanto se tabulan los resultados obtenidos ajustando la función de valoración cada w, x e y partidos jugados.\n",
    "\n",
    "- ¿con qué valores de $\\alpha$ se prueba? ¿por qué?\n",
    "El ajuste de los pesos está afectado por una factor de aprendizaje ($\\mu$).\n",
    "Dicho factor de aprendizaje se ajusta según el error relativo incurrido en una muestra de entrenamiento (error de una partida, o promedio de error de n partidas del conjunto).\n",
    "\n",
    "- ¿Se utiliza enfriamiento? ¿cómo? \n",
    "La tasa de aprendizaje está categorizada en tres: 'bueno', 'regular', 'malo'. Dependiendo del error cometido previamente mencionado, se define el grado de ajuste del parámetro: 0,03, 0,06 y 0,09 respectivamente.\n",
    "\n",
    "\n",
    "Tal vez precisen agregar algo de pseudocódigo o código para ejemplificar:\n",
    "\n",
    "```python\n",
    "    def f(x):\n",
    "        return x\n",
    "```\n",
    "\n",
    "## 2.4 Contrarios\n",
    "Se definen dos tipos de jugadores oponentes:\n",
    "* Un jugador que elige sus movimientos al azar\n",
    "* Un jugador que constituye una versión previa del jugador aprendiz actual.\n",
    "\n",
    "### 2.4.1 Jugador azaroso\n",
    "Las jugadas se eligen de forma aleatoria sobre un subconjunto de jugadas válidas para cierta ficha (elegida también de forma aleatoria). Como se mencionó anteriormente, una vez que una ficha alcanza la región ganadora se limita a que únicamente avance (en caso de ser posible) para llenar el triángulo del adversario. \n",
    "En caso de que no haya movimiento disponible para la ficha elegida, se selecciona otra ficha elegida nuevamente al azar (notar que eventualmente podría llegar a ser la misma).\n",
    "\n",
    "### 2.4.2 Versión previa del aprendiz actual\n",
    "- por ejemplo, deben quedar respondidas las siguientes preguntas:  ¿cada cuánto se actualizan los pesos de \"mi versión previa\"?"
   ]
  },
  {
   "cell_type": "markdown",
   "metadata": {},
   "source": [
    "## Por ejemplo, para un clasificador:\n",
    "    \n",
    "\n",
    "## 2.1 Preprocesamiento de datos\n",
    "- Decisiones sobre tratamiento de datos numéricos, faltantes, etc. antes de la aplicación de el algoritmo\n",
    "- Selección/generación de atributos\n",
    "\n",
    "\n",
    "## 2.2 Algoritmo\n",
    "Extensiones del algoritmo original necesarias para la resolución del problema: tratamiento de atributos faltantes, numéricos, etc. (si es el propio algoritmo el que lo maneja), implementaciones adicionales necesarias para manejar ensambles de clasificadores, etc.\n",
    "\n",
    "\n",
    "## 2.3 Evaluación\n",
    "- Qué conjunto de métricas se utilizan para la evaluación de la solución y su definición\n",
    "- Sobre qué conjunto(s) se realiza el entrenamiento, ajuste de la solución, evaluación, etc. Explicar cómo se construyen estos conjuntos."
   ]
  },
  {
   "cell_type": "markdown",
   "metadata": {},
   "source": [
    "## 3. Experimentación"
   ]
  },
  {
   "cell_type": "markdown",
   "metadata": {},
   "source": [
    "- Presentar los distintos experimentos que se realizan y los resultados que se obtienen.\n",
    "\n",
    "- La información de los resultados se presenta en tablas y en gráficos, de acuerdo a su naturaleza. Por ejemplo:\n",
    "\n",
    "_En la gráfica 1, se observa el error cuadrático total del conjunto de entrenamiento a medida que pasan los juegos para el oponente X_"
   ]
  },
  {
   "cell_type": "code",
   "execution_count": 1,
   "metadata": {},
   "outputs": [
    {
     "data": {
      "text/plain": [
       "[<matplotlib.lines.Line2D at 0x7f94899d90f0>]"
      ]
     },
     "execution_count": 1,
     "metadata": {},
     "output_type": "execute_result"
    }
   ],
   "source": [
    "import matplotlib.pyplot\n",
    "matplotlib.pyplot.plot(range(0,100), [2**-(x/10) for x in range(0,100)])"
   ]
  },
  {
   "cell_type": "markdown",
   "metadata": {},
   "source": [
    "\n",
    "- Debe existir alguna instancia donde se compile la información relevante de los experimentos de forma de poder comparar fácilmente los distintos experimentos. Por ejemplo:\n",
    "\n",
    "_En la tabla 1, se presentan los distintos resultados contra el jugador aleatorio, para los distintos valores de $\\alpha$ elegidos. El mejor resultado se obtiene para $\\alpha=0.05$, lo que prueba que la estrategia..._\n",
    "\n",
    "<table>\n",
    "  <tr>\n",
    "    <th>$\\alpha$</th>\n",
    "    <th>...</th>\n",
    "    <th>Turnos</th>\n",
    "    <th>Error</th>\n",
    "  </tr>\n",
    "  <tr>\n",
    "    <td>0.001</td>\n",
    "    <td>...</td>\n",
    "    <td>100</td>\n",
    "    <td>0.991</td>\n",
    "  </tr>    \n",
    "  <tr>\n",
    "    <td>0.005</td>\n",
    "    <td>...</td>\n",
    "    <td>100</td>\n",
    "    <td>0.987</td>\n",
    "  </tr>\n",
    "  <tr style=\"font-weight:bold\">\n",
    "    <td>0.05</td>\n",
    "    <td>...</td>\n",
    "    <td>100</td>\n",
    "    <td>0.329</td>\n",
    "  </tr>\n",
    "  <tr>\n",
    "    <td>0.5</td>\n",
    "    <td>...</td>\n",
    "    <td>100</td>\n",
    "    <td>0.564</td>\n",
    "  </tr>    \n",
    "    <caption>Tabla 1 - Entrenamiento del jugador X para distintos valores de $\\alpha$</caption>\n",
    "</table>\n"
   ]
  },
  {
   "cell_type": "markdown",
   "metadata": {},
   "source": [
    "## 4. Conclusión"
   ]
  },
  {
   "cell_type": "markdown",
   "metadata": {},
   "source": [
    "Una breve conclusión del trabajo realizado. Por ejemplo: \n",
    "- ¿cuándo se dieron los mejores resultados del jugador?\n",
    "- ¿encuentra alguna relación con los parámetros / oponentes/ atributos elegidos?\n",
    "- ¿cómo mejoraría los resultados?"
   ]
  },
  {
   "cell_type": "code",
   "execution_count": null,
   "metadata": {},
   "outputs": [],
   "source": []
  },
  {
   "cell_type": "code",
   "execution_count": null,
   "metadata": {},
   "outputs": [],
   "source": []
  }
 ],
 "metadata": {
  "kernelspec": {
   "display_name": "Python 3",
   "language": "python",
   "name": "python3"
  },
  "language_info": {
   "codemirror_mode": {
    "name": "ipython",
    "version": 3
   },
   "file_extension": ".py",
   "mimetype": "text/x-python",
   "name": "python",
   "nbconvert_exporter": "python",
   "pygments_lexer": "ipython3",
   "version": "3.7.1"
  }
 },
 "nbformat": 4,
 "nbformat_minor": 2
}
